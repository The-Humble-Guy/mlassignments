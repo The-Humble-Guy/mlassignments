{
 "cells": [
  {
   "cell_type": "markdown",
   "id": "342a9f21-5a0c-4a4c-9a6f-ca965a752223",
   "metadata": {},
   "source": [
    "<div style=\"font-size:18pt;padding-top:20px; text-align:center\">Домашнее задание 2. <b>Модели предсказания</b> </div><hr>\n",
    "<div style=\"text-align:right;\">Куценко А. А <span style=\"font-style: italic;font-weight: bold;\">(ftruf357ft@gmail.com)</span></div>"
   ]
  },
  {
   "cell_type": "markdown",
   "id": "d621eb32-8838-4bdb-bf44-3446577d4584",
   "metadata": {},
   "source": [
    "Подключение стилей оформления"
   ]
  },
  {
   "cell_type": "code",
   "execution_count": 1,
   "id": "37c65b1c-e1a9-4b57-b4e2-d249a28ce9ad",
   "metadata": {},
   "outputs": [
    {
     "data": {
      "text/html": [
       "<link href=\"css/style.css\" rel=\"stylesheet\" type=\"text/css\">\n"
      ],
      "text/plain": [
       "<IPython.core.display.HTML object>"
      ]
     },
     "metadata": {},
     "output_type": "display_data"
    }
   ],
   "source": [
    "%%html\n",
    "<link href=\"css/style.css\" rel=\"stylesheet\" type=\"text/css\">"
   ]
  },
  {
   "cell_type": "markdown",
   "id": "e58ebc36-2b0c-4b22-9522-5903ccda9b6d",
   "metadata": {},
   "source": [
    "### Содержание\n",
    "\n",
    "- [Вариант](#Вариант)\n",
    "- [Задача 1. Реализация собственных классов и функций (4 балла)](#Задача-1.-Реализация-собственных-классов-и-функций-(4-балла))"
   ]
  },
  {
   "cell_type": "markdown",
   "id": "c11f9934-8012-4963-aa03-aea9b7d4a3d0",
   "metadata": {},
   "source": [
    "# Цель работы\n",
    "Приобрести опыт решения практических задач по машинному обучению, таких как анализ и визуализация исходных данных, обучение, выбор и оценка качества моделей предсказания, посредством языка программирования Python.\n",
    "\n",
    "При выполнении работы решаются следующие задачи:\n",
    "- реализация собственных классов, совместимых с библиотекой `sklearn`;\n",
    "- оценка влияния регуляризации в моделях предсказания;\n",
    "- преобразование исходных данных посредством транформаторов `sklearn`;\n",
    "- использование отложенной выборки и кросс-валидации;\n",
    "- выбор гиперпараметров и интерпретация кривых обучения;\n",
    "- оценка качества моделей предсказания;\n",
    "- выявление преимуществ и недостатков методов предсказания в зависимости от поставленной задачи."
   ]
  },
  {
   "cell_type": "markdown",
   "id": "479529f5-4439-402a-a724-66bce32c8562",
   "metadata": {},
   "source": [
    "# Вариант"
   ]
  },
  {
   "cell_type": "code",
   "execution_count": 2,
   "id": "d26434c2-5ccf-44c2-891d-f7009f21860a",
   "metadata": {},
   "outputs": [
    {
     "name": "stdout",
     "output_type": "stream",
     "text": [
      "Задание № 2. Вариант:  2\n",
      "Задание № 3. Вариант:  3\n"
     ]
    }
   ],
   "source": [
    "surname = \"Куценко\"  # Ваша фамилия\n",
    "\n",
    "alph = 'абвгдеёжзийклмнопрстуфхцчшщъыьэюя'\n",
    "w = [4, 42, 21, 21, 55,  1, 44, 26, 18, 3, 38, 26, 18, 12,  3, 49, 45,\n",
    "        7, 42, 9,  4,  3, 36, 33, 31, 29,  5, 4,  4, 19, 21, 27, 33]\n",
    "d = dict(zip(alph, w))\n",
    "variant =  sum([d[el] for el in surname.lower()]) % 40 + 1\n",
    "\n",
    "print(\"Задание № 2. Вариант: \", variant % 2 + 1)\n",
    "print(\"Задание № 3. Вариант: \", variant % 3 + 1 )"
   ]
  },
  {
   "cell_type": "markdown",
   "id": "fd42d46e-0e40-4bd6-a4d2-802fcb240d9d",
   "metadata": {},
   "source": [
    "## Задача 1. Реализация собственных классов и функций (4 балла)"
   ]
  },
  {
   "cell_type": "markdown",
   "id": "ce0b8a78-4d98-4143-8406-ed6a9c92fc10",
   "metadata": {},
   "source": [
    "### Условие\n",
    "\n",
    "> **Замечание**. 1) Нельзя пользоваться готовыми реализациями `sklearn`; 2) чтобы избежать случая с вырожденной матрицей при оценке параметров добавьте незначительную регуляризацию по умолчанию или используйте `lstsq` из пакета `numpy` или др. способ; 3) используйте `random_state=0`\n",
    "\n",
    "1. Реализуйте класс, предназначенный для оценки параметров линейной регрессии с регуляризацией совместимый с `sklearn`. Передаваемые параметры: 1) коэффициент регуляризации (`alpha`). Использовать метод наименьших квадратов с регуляризацией;\n",
    "\n",
    "2. Реализуйте класс для стандартизации признаков в виде трансформации, совместимый с `sklearn`. Передаваемые параметры: 1) `has_bias` (содержит ли матрица вектор единиц), 2) `apply_mean` (производить ли центровку)\n",
    "\n",
    "3. Реализуйте функции для расчета $MSE$ и $R^2$ при отложенной выборке (`run_holdout`) и кросс-валидации (`run_cross_val`). Для кросс-валидации используйте **только** класс `KFold`. Выходными значениями должны быть $MSE$ и $R^2$ для обучающей и тестовой частей.\n",
    "\n",
    "Шаблон кода:\n",
    "```python\n",
    "def run_holdout(model, X, y, train_size, random_state) -> dict:\n",
    "    ...\n",
    "    return scores\n",
    "\n",
    "\n",
    "def run_cross_val(model, X, y, n_splits, shuffle, random_state) -> dict:\n",
    "    ...\n",
    "    return scores\n",
    "```\n",
    "\n",
    "4. Используя класс `Pipeline`, выполнить обучение линейной регрессии с предварительной стандартизацией с коэффициентом регуляризации равным `0` и `0.01`. Выведите значения параметров обученной модели. Выведите значения $MSE$ и $R^2$, полученные посредством функций `run_holdout` и `run_cross_val`. Отобразите график предсказание ($\\hat{y}$) - действительное значение ($y$) для разных коэффициентов регуляризации для обучающего и текстового множества. Использовать следующие параметры:\n",
    "    - `train_size=0.75`,\n",
    "    - `n_splits=4`,\n",
    "    - `shuffle=True`,\n",
    "    - `random_state=0`\n",
    "  \n",
    "> **Замечание**: при формировании исходных данных использовался полином 16 степени одномерных данных.\n"
   ]
  },
  {
   "cell_type": "markdown",
   "id": "ff6be14a-bafa-44aa-8a6c-691efcbe3d68",
   "metadata": {},
   "source": [
    "### Выполнение"
   ]
  },
  {
   "cell_type": "code",
   "execution_count": 3,
   "id": "5a6ade5f-199c-41d5-9aa9-6356272f4cfd",
   "metadata": {},
   "outputs": [],
   "source": [
    "import numpy as np\n",
    "import pandas as pd\n",
    "import matplotlib.pyplot as plt\n",
    "from sklearn.base import BaseEstimator, RegressorMixin, TransformerMixin\n",
    "from sklearn.utils.validation import check_X_y, check_array, check_is_fitted"
   ]
  },
  {
   "cell_type": "markdown",
   "id": "27d2da35-36be-4b76-bc0c-21ab28e2fc51",
   "metadata": {},
   "source": [
    "1. Нужно реализовать класс линейной регрессии с регуляризацией и использованием метода МНК. Поскольку реализуемый класс - это estimator, то нужно отнаследоваться от `BaseEstimator`, а также отнаследоваться от базового для всех регрессоров класса `RegressorMixin`\n",
    "\n",
    "Поскольку в задании не указан тип, будем использовать L2 регуляризацию"
   ]
  },
  {
   "cell_type": "code",
   "execution_count": 4,
   "id": "cda2a02e-c45d-4cb6-8bd4-85f7bc304367",
   "metadata": {},
   "outputs": [],
   "source": [
    "class CustomRidge(BaseEstimator, RegressorMixin):\n",
    "    epsilon = 10e-10\n",
    "    \n",
    "    def __init__(self, alpha=10e-4):\n",
    "        self.alpha = alpha\n",
    "\n",
    "        # Избегаем сингулярной матрицы, если коэффициент регуляризации близок или равен нулю\n",
    "        if self.alpha < self.epsilon:\n",
    "            self.alpha = self.epsilon\n",
    "\n",
    "    def fit(self, X, y):\n",
    "        X, y = check_X_y(X, y)\n",
    "        self.n_features_in_ = X.shape[1]\n",
    "\n",
    "        X_ = np.c_[np.ones(X.shape[0]), X]\n",
    "        \n",
    "        E = np.eye(X_.shape[1])\n",
    "\n",
    "        # не осуществляем регуляризацию для свободного параметра coef_[0]\n",
    "        E[0, 0] = 0\n",
    "        self.coef_ = np.linalg.inv(X_.T @ X_ + self.alpha * E) @ X_.T @ y\n",
    "        return self\n",
    "\n",
    "    def predict(self, X):\n",
    "        check_is_fitted(self, 'coef_')\n",
    "        X = check_array(X)\n",
    "        X_ = np.c_[np.ones(X.shape[0]), X]\n",
    "        return X_ @ self.coef_"
   ]
  },
  {
   "cell_type": "markdown",
   "id": "686ffa93-efb6-4b65-b2b8-4516efa8b96d",
   "metadata": {},
   "source": [
    "#### Пояснение к формуле для коэффициентов\n",
    "\n",
    "Модель линейной регрессии:\n",
    "$$\n",
    "h(x) = \\theta^Tx = \\theta_{0} + \\theta_{1}x_{1} + \\dots + \\theta_{p}x_{p}\n",
    "$$\n",
    "\n",
    "Функция потерь для линейной регрессии с L2 регуляризацией:\n",
    "$$\n",
    "L(\\theta) = \\sum_{i=1}^n \\big( y_{i}-h(x_{i}) \\big)^2 + \\alpha \\sum_{j=1}^p \\theta_{j}^2 = \\sum_{i=1}^n \\Big[ y_{i} - \\big( \\theta_{0} + \\theta_{1}x_{i_{1}} + \\dots + \\theta_{p}x_{i_p} \\big) \\Big]^2 + \\alpha \\sum_{j=1}^p \\theta_{j}^2\n",
    "$$\n",
    "\n",
    "Постановка задачи заключается в минимизации функции потерь:\n",
    "$$\n",
    "\\hat{\\theta} = \\underset{\\theta}{\\operatorname{argmin}} L(\\theta)\n",
    "$$\n",
    "\n",
    "В методе МНК минимум функции $L(\\theta)$ осуществляется поиском экстремума функции, то есть приравнивания частных производных к нулю и решению СЛАУ.\n",
    "\n",
    "Частная производная $L(\\theta)$ по координате $\\theta_{j}$:\n",
    "$$\n",
    "\\begin{gather*}\n",
    "\\dfrac{\\partial L(\\theta)}{\\partial \\theta_{j}} = \\dfrac{\\partial}{\\partial \\theta_{j}} \\left[ \\sum_{i=1}^n \\big( y_{i} - h(x_{i}) \\big)^2 + \\alpha \\sum_{k=1}^p \\theta_{k}^2 \\right] = \\\\\n",
    "= \\dfrac{\\partial}{\\partial \\theta_{j}} \\sum_{i=1}^n \\Big[ y_{i} - \\big( \\theta_{0} + \\theta_{1}x_{i1} + \\theta_{2}x_{i2} + \\dots + \\theta_{p}x_{ip} \\big) \\Big]^2 + \\alpha \\dfrac{\\partial}{\\partial\\theta_{j}} \\left(\\theta_{0}^2 + \\theta_{1}^2 + \\dots + \\theta_{j}^2 + \\dots \\theta_{k}^2\\right) = \\\\\n",
    "= \\sum_{i=1}^n -2x_{ij} \\big[ y_{i} - (\\theta_{0} + \\theta_{1}x_{i_{1}} + \\theta_{2}x_{i2} + \\dots + \\theta_{p}x_{ip}) \\big] + 2\\alpha\\theta _{j}\n",
    "\\end{gather*}\n",
    "$$\n",
    "\n",
    "В матричной форме получим:\n",
    "$$\n",
    "\\nabla L(\\theta) = -2X^T(y-X\\theta) + 2\\alpha\\theta\n",
    "$$\n",
    "\n",
    "Приравниваем к нулю:\n",
    "$$\n",
    "\\begin{align}\n",
    "-2X^T(y-X\\theta) &= -2\\alpha\\theta \\\\\n",
    "X^T(y-X\\theta) &= \\alpha \\theta \\\\\n",
    "X^T X \\theta + \\alpha\\theta &= X^T y \\\\\n",
    "X^TX\\theta + \\alpha E \\theta &= X^T y \\\\\n",
    "(X^T X + \\alpha E) \\theta &= X^T y \\\\\n",
    "\\theta &= (X^T X + \\alpha E)^{-1} X^T y\\ ,\n",
    "\\end{align}\n",
    "$$\n",
    "где $E$ - единичная матрица, $\\alpha \\in \\mathbb{R}$"
   ]
  },
  {
   "cell_type": "markdown",
   "id": "ba36d9a3-bbe4-4d56-8763-5881620b119a",
   "metadata": {},
   "source": [
    "Проверка на совместимость с `sklearn`"
   ]
  },
  {
   "cell_type": "code",
   "execution_count": 5,
   "id": "902e706d-154d-4c15-88a3-f242ac497039",
   "metadata": {},
   "outputs": [
    {
     "name": "stdout",
     "output_type": "stream",
     "text": [
      "Requirement already satisfied: threadpoolctl==3.1.0 in /opt/conda/lib/python3.11/site-packages (3.1.0)\n",
      "\u001b[33mWARNING: Running pip as the 'root' user can result in broken permissions and conflicting behaviour with the system package manager. It is recommended to use a virtual environment instead: https://pip.pypa.io/warnings/venv\u001b[0m\u001b[33m\n",
      "\u001b[0mNote: you may need to restart the kernel to use updated packages.\n"
     ]
    }
   ],
   "source": [
    "%pip install threadpoolctl==3.1.0"
   ]
  },
  {
   "cell_type": "code",
   "execution_count": 6,
   "id": "066c2729-f06f-4aeb-8776-a85d5c4aa708",
   "metadata": {},
   "outputs": [],
   "source": [
    "from sklearn.utils.estimator_checks import check_estimator\n",
    "from sklearn.base import is_regressor"
   ]
  },
  {
   "cell_type": "code",
   "execution_count": 7,
   "id": "2bd72b07-24ac-41fc-8c1d-1b4f03100be8",
   "metadata": {},
   "outputs": [],
   "source": [
    "check_estimator(estimator=CustomRidge())"
   ]
  },
  {
   "cell_type": "code",
   "execution_count": 8,
   "id": "6f139d77-ca64-42f9-9e0b-0d1d1451d756",
   "metadata": {},
   "outputs": [
    {
     "data": {
      "text/plain": [
       "True"
      ]
     },
     "execution_count": 8,
     "metadata": {},
     "output_type": "execute_result"
    }
   ],
   "source": [
    "# Note: Based on _estimator_type\n",
    "is_regressor(CustomRidge())"
   ]
  },
  {
   "cell_type": "markdown",
   "id": "1636d48d-f94e-4648-a09e-aa0cb17e565b",
   "metadata": {},
   "source": [
    "Проверим поведение `CustomRidge` с эталонной реализацией `Ridge` из `sklearn`"
   ]
  },
  {
   "cell_type": "code",
   "execution_count": 9,
   "id": "42164fd9-91d5-4f6c-8eb2-ae0764e85175",
   "metadata": {},
   "outputs": [],
   "source": [
    "TEST_REGULARIZATION = 0.1"
   ]
  },
  {
   "cell_type": "code",
   "execution_count": 10,
   "id": "4934bb4f-f319-4d75-aae8-114d2c43ae5d",
   "metadata": {},
   "outputs": [
    {
     "name": "stdout",
     "output_type": "stream",
     "text": [
      "Параметры для Ridge модели:\n",
      "\tw0 = 0.4287487903145548\n",
      "\tw1 = 1.9641903951183133\n",
      "Test score = 0.9906659564646361\n",
      "\n",
      "Параметры для CustomRidge модели:\n",
      "\tw1 = 0.42874879031455726\n",
      "\tw2 = 1.9641903951183137\n",
      "Test score = 0.9906659564646361\n"
     ]
    }
   ],
   "source": [
    "from scipy import stats\n",
    "from sklearn.model_selection import train_test_split\n",
    "from sklearn.linear_model import Ridge\n",
    "\n",
    "def regression_dataset(n=100):\n",
    "    \"\"\"Генерация исходных данных\"\"\"\n",
    "    x = stats.uniform.rvs(size=n, loc=0, scale=6, random_state=0)\n",
    "    f = lambda x: 0.3 + 2*x\n",
    "    y = stats.norm.rvs(size=n, loc=0, scale=0.3, random_state=0) + f(x)\n",
    "    return (x, y, f)\n",
    "\n",
    "# Инициализация исходных данных\n",
    "x, y, f = regression_dataset()\n",
    "\n",
    "# Представление признака x в матричной форме\n",
    "X_ = x.reshape(-1, 1)\n",
    "\n",
    "# Формирование обучающего и тестового подмножеств\n",
    "X_train, X_test, y_train, y_test = train_test_split(X_, y, test_size=0.3, random_state=200)\n",
    "\n",
    "ridge = Ridge(alpha=TEST_REGULARIZATION, fit_intercept=True)\n",
    "ridge.fit(X_train, y_train)\n",
    "\n",
    "# Параметры обученной модели\n",
    "print(\"Параметры для Ridge модели:\")\n",
    "print(\"\\tw{} = {}\".format(0, ridge.intercept_))\n",
    "for indx, coef in enumerate(ridge.coef_):\n",
    "    print(\"\\tw{} = {}\".format(indx+1, coef))\n",
    "print(f\"Test score = {ridge.score(X_test, y_test)}\")\n",
    "\n",
    "\n",
    "custom_ridge = CustomRidge(alpha=TEST_REGULARIZATION)\n",
    "custom_ridge.fit(X_train, y_train)\n",
    "\n",
    "# Параметры обученной модели\n",
    "print(\"\\nПараметры для CustomRidge модели:\")\n",
    "for indx, coef in enumerate(custom_ridge.coef_):\n",
    "    print(\"\\tw{} = {}\".format(indx+1, coef))\n",
    "print(f\"Test score = {custom_ridge.score(X_test, y_test)}\")"
   ]
  },
  {
   "cell_type": "markdown",
   "id": "deb70a16-4432-4828-9a3e-3c5f1e9cfd7f",
   "metadata": {},
   "source": [
    "Как видим, обе реализации выдали приблизительно одинаковые параметры"
   ]
  },
  {
   "cell_type": "markdown",
   "id": "9ce4415e-fb1e-4014-8c52-df7fd0cb5e38",
   "metadata": {},
   "source": [
    "2. Нужно реализовать класс-трансформер, совместимый с `sklearn`. Для этого нужно отнаследоваться от классов `BaseEstimator`, `TransformerMixin`"
   ]
  },
  {
   "cell_type": "markdown",
   "id": "4bcde29d-9c91-4530-b957-73760282c3db",
   "metadata": {},
   "source": [
    "$$\n",
    "x_{s} = \\dfrac{x - \\overline{x}}{s}\n",
    "$$"
   ]
  },
  {
   "cell_type": "code",
   "execution_count": 11,
   "id": "412acf4c-6790-439a-bb73-2a79bc5aa694",
   "metadata": {},
   "outputs": [],
   "source": [
    "class CustomStandardScaller(BaseEstimator, TransformerMixin):\n",
    "\n",
    "    def __init__(self, has_bias=False, apply_mean=True):\n",
    "        self.has_bias = has_bias\n",
    "        self.apply_mean = apply_mean\n",
    "\n",
    "    def fit(self, X, y=None):\n",
    "        X = check_array(X) # или другой check\n",
    "        self.n_features_in_ = X.shape[1]\n",
    "        self.mean_ = np.mean(X, axis=0, dtype=float)\n",
    "        self.var_ = np.var(X, axis=0, dtype=float)\n",
    "        return self\n",
    "\n",
    "    def transform(self, X):\n",
    "        check_is_fitted(self, ['mean_', 'var_'])\n",
    "        X = check_array(X)\n",
    "        \n",
    "        if X.shape[1] != self.n_features_in_:\n",
    "            raise ValueError(f\"Dimension mismatch. Expected {self.n_features_in_} features, got {X.shape[1]}\")\n",
    "        \n",
    "        # Избегаем деления на ноль\n",
    "        vars = np.copy(self.var_)\n",
    "        vars[vars == 0] = 1\n",
    "\n",
    "        if self.has_bias:\n",
    "            ones_column = X[:, 0].reshape(-1, 1)\n",
    "            other_columns = X[:, 1:]\n",
    "            result = (other_columns - int(self.apply_mean) * self.mean_[1:]) / np.sqrt(vars[1:])\n",
    "            return np.hstack([ones_column, result])\n",
    "        \n",
    "        return (X - int(self.apply_mean) * self.mean_) / np.sqrt(vars)"
   ]
  },
  {
   "cell_type": "markdown",
   "id": "bb936962-3e40-472f-b55f-b3d689a44dde",
   "metadata": {},
   "source": [
    "Проверка на совместимость с `sklearn`"
   ]
  },
  {
   "cell_type": "code",
   "execution_count": 12,
   "id": "dd65831d-1549-4d7e-9636-c28d9bd51132",
   "metadata": {},
   "outputs": [],
   "source": [
    "check_estimator(CustomStandardScaller())"
   ]
  },
  {
   "cell_type": "markdown",
   "id": "4a02a51d-7a83-4541-be84-a53dcfdf2b57",
   "metadata": {},
   "source": [
    "Сравним поведение с `StandardScaller` из `sklearn`"
   ]
  },
  {
   "cell_type": "code",
   "execution_count": 13,
   "id": "9a854464-77a8-4234-bdf9-d23e254e4f60",
   "metadata": {},
   "outputs": [
    {
     "name": "stdout",
     "output_type": "stream",
     "text": [
      "Матожидания: [2.68932584 2.89323492 2.88091148 3.49850031 2.22184263]\n",
      "Отклонения: [2.71149376 1.87346466 4.03454043 2.70120176 2.79760696]\n",
      "[[ 0.36653266  1.02130098  0.36625646 -0.13945638  0.19136986]\n",
      " [ 0.7202688  -0.19558905  1.22956596  1.38937023  0.04711602]\n",
      " [ 1.25163824  0.20466519  0.26254682  1.25040333 -1.07355081]\n",
      " [-1.31572286 -2.02515678  1.05286776  0.71214875  1.79255146]\n",
      " [ 1.93262817  1.3893863  -0.05577735  0.7208097  -0.90409644]]\n",
      "\n",
      "Матожидания: [2.68932584 2.89323492 2.88091148 3.49850031 2.22184263]\n",
      "Отклонения: [2.71149376 1.87346466 4.03454043 2.70120176 2.79760696]\n",
      "[[ 0.36653266  1.02130098  0.36625646 -0.13945638  0.19136986]\n",
      " [ 0.7202688  -0.19558905  1.22956596  1.38937023  0.04711602]\n",
      " [ 1.25163824  0.20466519  0.26254682  1.25040333 -1.07355081]\n",
      " [-1.31572286 -2.02515678  1.05286776  0.71214875  1.79255146]\n",
      " [ 1.93262817  1.3893863  -0.05577735  0.7208097  -0.90409644]]\n",
      "\n",
      "Разность между трансформерами:\n"
     ]
    },
    {
     "data": {
      "text/plain": [
       "array([[0., 0., 0., 0., 0.],\n",
       "       [0., 0., 0., 0., 0.],\n",
       "       [0., 0., 0., 0., 0.],\n",
       "       [0., 0., 0., 0., 0.],\n",
       "       [0., 0., 0., 0., 0.],\n",
       "       [0., 0., 0., 0., 0.],\n",
       "       [0., 0., 0., 0., 0.],\n",
       "       [0., 0., 0., 0., 0.],\n",
       "       [0., 0., 0., 0., 0.],\n",
       "       [0., 0., 0., 0., 0.],\n",
       "       [0., 0., 0., 0., 0.],\n",
       "       [0., 0., 0., 0., 0.],\n",
       "       [0., 0., 0., 0., 0.],\n",
       "       [0., 0., 0., 0., 0.],\n",
       "       [0., 0., 0., 0., 0.],\n",
       "       [0., 0., 0., 0., 0.],\n",
       "       [0., 0., 0., 0., 0.],\n",
       "       [0., 0., 0., 0., 0.],\n",
       "       [0., 0., 0., 0., 0.],\n",
       "       [0., 0., 0., 0., 0.]])"
      ]
     },
     "execution_count": 13,
     "metadata": {},
     "output_type": "execute_result"
    }
   ],
   "source": [
    "from sklearn.preprocessing import StandardScaler\n",
    "\n",
    "x, y, f = regression_dataset()\n",
    "\n",
    "# Сделаем больше столбцов\n",
    "x_for_scaler = x.reshape(-1, 5)\n",
    "\n",
    "scaler = StandardScaler()\n",
    "scaler_data = scaler.fit_transform(x_for_scaler)\n",
    "print(f\"Матожидания: {scaler.mean_}\")\n",
    "print(f\"Отклонения: {scaler.var_}\")\n",
    "\n",
    "print(scaler_data[:5])\n",
    "\n",
    "custom_scaler = CustomStandardScaller(has_bias=False, apply_mean=True)\n",
    "custom_scaler_data = custom_scaler.fit_transform(x_for_scaler)\n",
    "print(f\"\\nМатожидания: {custom_scaler.mean_}\")\n",
    "print(f\"Отклонения: {custom_scaler.var_}\")\n",
    "\n",
    "print(custom_scaler_data[:5])\n",
    "\n",
    "print('\\nРазность между трансформерами:')\n",
    "scaler_data - custom_scaler_data"
   ]
  },
  {
   "cell_type": "markdown",
   "id": "e2002262-d7a5-421b-809a-97036dfd1dfc",
   "metadata": {},
   "source": [
    "Как видим, результаты обоих трансформеров совпали"
   ]
  },
  {
   "cell_type": "markdown",
   "id": "3f65a32e-d5cf-42e9-969a-a56cd5e0eef2",
   "metadata": {},
   "source": [
    "3. Реализуем функции для подсчета $MSE$ и $R^2$ на обучающей и тестовой выборке для варианта с отложенной выборкой (`holdout`) и с кросс-валидацией `KFold`"
   ]
  },
  {
   "cell_type": "code",
   "execution_count": 14,
   "id": "96846443-7f6a-485c-9922-b9e657c78559",
   "metadata": {},
   "outputs": [],
   "source": [
    "from sklearn.model_selection import KFold\n",
    "from sklearn.base import clone"
   ]
  },
  {
   "cell_type": "code",
   "execution_count": 15,
   "id": "c5d52a0c-4ec0-4a4b-a4e8-94b8d3ff18b0",
   "metadata": {},
   "outputs": [],
   "source": [
    "TEST  = 'TEST'\n",
    "TRAIN = 'TRAIN'"
   ]
  },
  {
   "cell_type": "code",
   "execution_count": 16,
   "id": "6a5353ab-1f81-4656-ba2c-e2f66bd43827",
   "metadata": {},
   "outputs": [],
   "source": [
    "def calculate_mse(y_true, y_pred):\n",
    "    return np.mean((y_true - y_pred) ** 2)\n",
    "\n",
    "def run_holdout(model, X, y, train_size, random_state=None):\n",
    "    X_train, X_test, y_train, y_test = train_test_split(X, y, train_size=train_size, random_state=random_state)\n",
    "\n",
    "    # Используем функцию только для оценки качества модели, но не для обучения переданной через параметры модели model\n",
    "    model = clone(model)\n",
    "    model.fit(X_train, y_train)\n",
    "    \n",
    "    return {\n",
    "        TEST: {\n",
    "            'MSE': calculate_mse(y_test, model.predict(X_test)),\n",
    "            'R2': model.score(X_test, y_test),\n",
    "        },\n",
    "        TRAIN: {\n",
    "            'MSE': calculate_mse(y_train, model.predict(X_train)),\n",
    "            'R2' : model.score(X_train, y_train)\n",
    "        }\n",
    "    }\n",
    "\n",
    "def run_cross_val(model, X, y, n_splits, shuffle, random_state):\n",
    "    mses = {\n",
    "        TEST: np.full(n_splits, np.inf),\n",
    "        TRAIN: np.full(n_splits, np.inf)\n",
    "    }\n",
    "    r2s = {\n",
    "        TEST: np.full(n_splits, np.inf),\n",
    "        TRAIN: np.full(n_splits, np.inf)\n",
    "    }\n",
    "\n",
    "    model = clone(model)\n",
    "    kf = KFold(n_splits=n_splits, shuffle=shuffle, random_state=random_state)\n",
    "\n",
    "    for i, (train_indexes, test_indexes) in enumerate(kf.split(X)):\n",
    "        model.fit(X[train_indexes], y[train_indexes])\n",
    "\n",
    "        mses[TEST][i] = calculate_mse(y[test_indexes], model.predict(X[test_indexes]))\n",
    "        mses[TRAIN][i] = calculate_mse(y[train_indexes], model.predict(X[train_indexes]))\n",
    "\n",
    "        r2s[TEST][i] = model.score(X[test_indexes], y[test_indexes])\n",
    "        r2s[TRAIN][i] = model.score(X[train_indexes], y[train_indexes])\n",
    "\n",
    "    return {\n",
    "        TEST: {\n",
    "            'MSE': np.mean(mses[TEST]),\n",
    "            'R2': np.mean(r2s[TEST])\n",
    "        },\n",
    "        TRAIN: {\n",
    "            'MSE': np.mean(mses[TRAIN]),\n",
    "            'R2': np.mean(r2s[TRAIN])\n",
    "        }\n",
    "    }"
   ]
  },
  {
   "cell_type": "code",
   "execution_count": 17,
   "id": "c161abd2-8753-45be-b2e9-b215dbd006c2",
   "metadata": {},
   "outputs": [
    {
     "data": {
      "text/plain": [
       "{'TEST': {'MSE': 0.10968834641076648, 'R2': 0.9907348519493575},\n",
       " 'TRAIN': {'MSE': 0.0833096486781037, 'R2': 0.992879569353667}}"
      ]
     },
     "execution_count": 17,
     "metadata": {},
     "output_type": "execute_result"
    }
   ],
   "source": [
    "model = CustomRidge(alpha=0)\n",
    "run_holdout(model, X_, y, train_size=0.75, random_state=123)"
   ]
  },
  {
   "cell_type": "markdown",
   "id": "90509a83-879d-4603-8bc5-c82e057c1e33",
   "metadata": {},
   "source": [
    "4. Используя класс `Pipeline`, проведем оценку параметров линейной регрессии с регуляризацией и предварительной стандартизацией"
   ]
  },
  {
   "cell_type": "code",
   "execution_count": 18,
   "id": "b9af2750-e152-4027-afa2-85a7e4ed9103",
   "metadata": {},
   "outputs": [],
   "source": [
    "from sklearn.pipeline import Pipeline"
   ]
  },
  {
   "cell_type": "code",
   "execution_count": 19,
   "id": "74b03b1b-f4bf-4d07-869f-ff2917c05637",
   "metadata": {},
   "outputs": [],
   "source": [
    "ALPHAS       = [0, 0.01]\n",
    "TRAIN_SIZE   = 0.75\n",
    "SPLITS       = 4\n",
    "SHUFFLE      = True\n",
    "RANDOM_STATE = 0"
   ]
  },
  {
   "cell_type": "markdown",
   "id": "c911a38c-c18f-4d21-8782-6fd36972fa92",
   "metadata": {},
   "source": [
    "Проверяем наличие датасета локально, если его нет, то скачиваем"
   ]
  },
  {
   "cell_type": "code",
   "execution_count": 20,
   "id": "f6510a34-cd9a-4f92-9d3b-f517215cc040",
   "metadata": {},
   "outputs": [
    {
     "name": "stdout",
     "output_type": "stream",
     "text": [
      "Let's check the availability of the dataset locally\n",
      "Dataset file exist. I'm skipping the download\n"
     ]
    }
   ],
   "source": [
    "%%bash\n",
    "\n",
    "# Messages from utils in stderr are not an errros\n",
    "exec 2>&1\n",
    "\n",
    "datasets_path=\"../data/A2_PM_dataset\"\n",
    "regularization_file=\"regularization.csv\"\n",
    "link=\"https://raw.githubusercontent.com/MLMethods/Assignments/refs/heads/master/data/A2_Model_Selection/regularization.csv\"\n",
    "\n",
    "echo \"Let's check the availability of the dataset locally\"\n",
    "\n",
    "if [ ! -f ${datasets_path}/${regularization_file} ]; then\n",
    "    mkdir -p ${datasets_path}\n",
    "    pushd ${datasets_path}\n",
    "\n",
    "    echo \"Dataset file is missing. Downloading...\"\n",
    "\n",
    "    curl -Ls \"${link}\" -o ${regularization_file}\n",
    "    popd\n",
    "else\n",
    "    echo \"Dataset file exist. I'm skipping the download\"\n",
    "fi"
   ]
  },
  {
   "cell_type": "code",
   "execution_count": 21,
   "id": "cf59d11d-1780-4404-a323-be4a0689257b",
   "metadata": {},
   "outputs": [],
   "source": [
    "FILE_PATH = \"../data/A2_PM_dataset/regularization.csv\""
   ]
  },
  {
   "cell_type": "code",
   "execution_count": 22,
   "id": "ffc467eb-8ae8-4eb6-a7e9-08ed5c9ff750",
   "metadata": {},
   "outputs": [
    {
     "data": {
      "text/html": [
       "<div>\n",
       "<style scoped>\n",
       "    .dataframe tbody tr th:only-of-type {\n",
       "        vertical-align: middle;\n",
       "    }\n",
       "\n",
       "    .dataframe tbody tr th {\n",
       "        vertical-align: top;\n",
       "    }\n",
       "\n",
       "    .dataframe thead th {\n",
       "        text-align: right;\n",
       "    }\n",
       "</style>\n",
       "<table border=\"1\" class=\"dataframe\">\n",
       "  <thead>\n",
       "    <tr style=\"text-align: right;\">\n",
       "      <th></th>\n",
       "      <th>X1</th>\n",
       "      <th>X2</th>\n",
       "      <th>X3</th>\n",
       "      <th>X4</th>\n",
       "      <th>X5</th>\n",
       "      <th>X6</th>\n",
       "      <th>X7</th>\n",
       "      <th>X8</th>\n",
       "      <th>X9</th>\n",
       "      <th>X10</th>\n",
       "      <th>X11</th>\n",
       "      <th>X12</th>\n",
       "      <th>X13</th>\n",
       "      <th>X14</th>\n",
       "      <th>X15</th>\n",
       "      <th>X16</th>\n",
       "      <th>Y</th>\n",
       "    </tr>\n",
       "  </thead>\n",
       "  <tbody>\n",
       "    <tr>\n",
       "      <th>0</th>\n",
       "      <td>3.856603</td>\n",
       "      <td>14.873388</td>\n",
       "      <td>57.360757</td>\n",
       "      <td>221.217682</td>\n",
       "      <td>853.148822</td>\n",
       "      <td>3290.256492</td>\n",
       "      <td>1.268921e+04</td>\n",
       "      <td>4.893726e+04</td>\n",
       "      <td>1.887316e+05</td>\n",
       "      <td>7.278629e+05</td>\n",
       "      <td>2.807078e+06</td>\n",
       "      <td>1.082579e+07</td>\n",
       "      <td>4.175077e+07</td>\n",
       "      <td>1.610161e+08</td>\n",
       "      <td>6.209754e+08</td>\n",
       "      <td>2.394856e+09</td>\n",
       "      <td>9.209759</td>\n",
       "    </tr>\n",
       "    <tr>\n",
       "      <th>1</th>\n",
       "      <td>0.103760</td>\n",
       "      <td>0.010766</td>\n",
       "      <td>0.001117</td>\n",
       "      <td>0.000116</td>\n",
       "      <td>0.000012</td>\n",
       "      <td>0.000001</td>\n",
       "      <td>1.294799e-07</td>\n",
       "      <td>1.343480e-08</td>\n",
       "      <td>1.393992e-09</td>\n",
       "      <td>1.446402e-10</td>\n",
       "      <td>1.500783e-11</td>\n",
       "      <td>1.557209e-12</td>\n",
       "      <td>1.615756e-13</td>\n",
       "      <td>1.676504e-14</td>\n",
       "      <td>1.739537e-15</td>\n",
       "      <td>1.804939e-16</td>\n",
       "      <td>10.409240</td>\n",
       "    </tr>\n",
       "    <tr>\n",
       "      <th>2</th>\n",
       "      <td>3.168241</td>\n",
       "      <td>10.037752</td>\n",
       "      <td>31.802020</td>\n",
       "      <td>100.756468</td>\n",
       "      <td>319.220791</td>\n",
       "      <td>1011.368453</td>\n",
       "      <td>3.204259e+03</td>\n",
       "      <td>1.015187e+04</td>\n",
       "      <td>3.216356e+04</td>\n",
       "      <td>1.019019e+05</td>\n",
       "      <td>3.228498e+05</td>\n",
       "      <td>1.022866e+06</td>\n",
       "      <td>3.240687e+06</td>\n",
       "      <td>1.026728e+07</td>\n",
       "      <td>3.252921e+07</td>\n",
       "      <td>1.030604e+08</td>\n",
       "      <td>7.643742</td>\n",
       "    </tr>\n",
       "    <tr>\n",
       "      <th>3</th>\n",
       "      <td>3.744019</td>\n",
       "      <td>14.017681</td>\n",
       "      <td>52.482471</td>\n",
       "      <td>196.495391</td>\n",
       "      <td>735.682558</td>\n",
       "      <td>2754.409777</td>\n",
       "      <td>1.031256e+04</td>\n",
       "      <td>3.861044e+04</td>\n",
       "      <td>1.445582e+05</td>\n",
       "      <td>5.412288e+05</td>\n",
       "      <td>2.026371e+06</td>\n",
       "      <td>7.586773e+06</td>\n",
       "      <td>2.840503e+07</td>\n",
       "      <td>1.063490e+08</td>\n",
       "      <td>3.981726e+08</td>\n",
       "      <td>1.490766e+09</td>\n",
       "      <td>8.453341</td>\n",
       "    </tr>\n",
       "    <tr>\n",
       "      <th>4</th>\n",
       "      <td>2.492535</td>\n",
       "      <td>6.212731</td>\n",
       "      <td>15.485450</td>\n",
       "      <td>38.598027</td>\n",
       "      <td>96.206935</td>\n",
       "      <td>239.799159</td>\n",
       "      <td>5.977078e+02</td>\n",
       "      <td>1.489808e+03</td>\n",
       "      <td>3.713398e+03</td>\n",
       "      <td>9.255774e+03</td>\n",
       "      <td>2.307034e+04</td>\n",
       "      <td>5.750364e+04</td>\n",
       "      <td>1.433298e+05</td>\n",
       "      <td>3.572546e+05</td>\n",
       "      <td>8.904697e+05</td>\n",
       "      <td>2.219527e+06</td>\n",
       "      <td>9.317824</td>\n",
       "    </tr>\n",
       "  </tbody>\n",
       "</table>\n",
       "</div>"
      ],
      "text/plain": [
       "         X1         X2         X3          X4          X5           X6  \\\n",
       "0  3.856603  14.873388  57.360757  221.217682  853.148822  3290.256492   \n",
       "1  0.103760   0.010766   0.001117    0.000116    0.000012     0.000001   \n",
       "2  3.168241  10.037752  31.802020  100.756468  319.220791  1011.368453   \n",
       "3  3.744019  14.017681  52.482471  196.495391  735.682558  2754.409777   \n",
       "4  2.492535   6.212731  15.485450   38.598027   96.206935   239.799159   \n",
       "\n",
       "             X7            X8            X9           X10           X11  \\\n",
       "0  1.268921e+04  4.893726e+04  1.887316e+05  7.278629e+05  2.807078e+06   \n",
       "1  1.294799e-07  1.343480e-08  1.393992e-09  1.446402e-10  1.500783e-11   \n",
       "2  3.204259e+03  1.015187e+04  3.216356e+04  1.019019e+05  3.228498e+05   \n",
       "3  1.031256e+04  3.861044e+04  1.445582e+05  5.412288e+05  2.026371e+06   \n",
       "4  5.977078e+02  1.489808e+03  3.713398e+03  9.255774e+03  2.307034e+04   \n",
       "\n",
       "            X12           X13           X14           X15           X16  \\\n",
       "0  1.082579e+07  4.175077e+07  1.610161e+08  6.209754e+08  2.394856e+09   \n",
       "1  1.557209e-12  1.615756e-13  1.676504e-14  1.739537e-15  1.804939e-16   \n",
       "2  1.022866e+06  3.240687e+06  1.026728e+07  3.252921e+07  1.030604e+08   \n",
       "3  7.586773e+06  2.840503e+07  1.063490e+08  3.981726e+08  1.490766e+09   \n",
       "4  5.750364e+04  1.433298e+05  3.572546e+05  8.904697e+05  2.219527e+06   \n",
       "\n",
       "           Y  \n",
       "0   9.209759  \n",
       "1  10.409240  \n",
       "2   7.643742  \n",
       "3   8.453341  \n",
       "4   9.317824  "
      ]
     },
     "execution_count": 22,
     "metadata": {},
     "output_type": "execute_result"
    }
   ],
   "source": [
    "df = pd.read_csv(FILE_PATH, sep=\",\")\n",
    "df.head(5)"
   ]
  },
  {
   "cell_type": "code",
   "execution_count": 23,
   "id": "3d81f7a1-c4c7-40d0-a8fa-3a8c56375245",
   "metadata": {},
   "outputs": [
    {
     "data": {
      "image/png": "[encoded data removed]",
      "text/plain": [
       "<Figure size 1000x600 with 1 Axes>"
      ]
     },
     "metadata": {},
     "output_type": "display_data"
    },
    {
     "data": {
      "text/plain": [
       "(7.297610350211348, 11.74999268743819, 9.44892101856273)"
      ]
     },
     "execution_count": 23,
     "metadata": {},
     "output_type": "execute_result"
    }
   ],
   "source": [
    "X = df.loc[:, df.columns != 'Y'].to_numpy()\n",
    "y = df['Y'].to_numpy()\n",
    "\n",
    "plt.figure(\"1\", figsize=[10, 6])\n",
    "\n",
    "plt.subplot(1,1,1)\n",
    "plt.title(\"Dataset data\")\n",
    "plt.scatter(X[:, 0], y, color=\"slategrey\")\n",
    "plt.xlabel(\"X\")\n",
    "plt.ylabel(\"Y\")\n",
    "plt.grid(True)\n",
    "\n",
    "plt.show()\n",
    "np.min(y), np.max(y), np.mean(y)"
   ]
  },
  {
   "cell_type": "code",
   "execution_count": 24,
   "id": "e0d64ac2-fcb6-4360-9ca6-c515af0c7cad",
   "metadata": {},
   "outputs": [
    {
     "name": "stdout",
     "output_type": "stream",
     "text": [
      "Коэффициент регуляризации:\n",
      "\ta = 0\n",
      "Параметры модели:\n",
      "\tw0 = 9.434567182341345\n",
      "\tw1 = -1.6704407570855964\n",
      "\tw2 = 8.975456759220513\n",
      "\tw3 = 94.25682542560035\n",
      "\tw4 = -917.0451737381871\n",
      "\tw5 = 2873.0446352486183\n",
      "\tw6 = -3495.570625695997\n",
      "\tw7 = -495.61050612864864\n",
      "\tw8 = 3575.93488659396\n",
      "\tw9 = 1215.6744649430066\n",
      "\tw10 = -3203.9200155206563\n",
      "\tw11 = -3143.1720211819943\n",
      "\tw12 = 1471.299418929289\n",
      "\tw13 = 4610.7022943032325\n",
      "\tw14 = 873.5226928329204\n",
      "\tw15 = -6160.775049062213\n",
      "\tw16 = 2694.163805799895\n",
      "\n",
      "Метрики при отложенной выборке (holdout)\n",
      "\tTRAIN MSE = 0.22052121838691024\n",
      "\tTRAIN R2 = 0.690311219438188\n",
      "\tTEST MSE = 0.23284158972090854\n",
      "\tTEST R2 = 0.6894647268442604\n",
      "\n",
      "Метрики при кросс-валидации KFold\n",
      "\tTRAIN MSE = 0.21722338678284417\n",
      "\tTRAIN R2 = 0.6989842666020141\n",
      "\tTEST MSE = 0.24018737600391865\n",
      "\tTEST R2 = 0.665414113710243\n",
      "\n",
      "\n",
      "\n",
      "Коэффициент регуляризации:\n",
      "\ta = 0.01\n",
      "Параметры модели:\n",
      "\tw0 = 9.434567182340828\n",
      "\tw1 = 0.7965494186034026\n",
      "\tw2 = -2.3895213897535146\n",
      "\tw3 = -1.758750619963111\n",
      "\tw4 = 0.7195882739072492\n",
      "\tw5 = 1.7287985089715157\n",
      "\tw6 = 1.3846950366699904\n",
      "\tw7 = 0.5567455443305476\n",
      "\tw8 = -0.15302367095275302\n",
      "\tw9 = -0.5145845260890636\n",
      "\tw10 = -0.5391931847756593\n",
      "\tw11 = -0.3467014475250035\n",
      "\tw12 = -0.079665777128048\n",
      "\tw13 = 0.1407045002759598\n",
      "\tw14 = 0.23126324815604357\n",
      "\tw15 = 0.14847729203714058\n",
      "\tw16 = -0.11715960410803164\n",
      "\n",
      "Метрики при отложенной выборке (holdout)\n",
      "\tTRAIN MSE = 0.2270305798213759\n",
      "\tTRAIN R2 = 0.6811698033893303\n",
      "\tTEST MSE = 0.22622187296326218\n",
      "\tTEST R2 = 0.6982932851529944\n",
      "\n",
      "Метрики при кросс-валидации KFold\n",
      "\tTRAIN MSE = 0.22348777464320543\n",
      "\tTRAIN R2 = 0.6903145941352636\n",
      "\tTEST MSE = 0.23650799139323447\n",
      "\tTEST R2 = 0.6706063150781365\n"
     ]
    }
   ],
   "source": [
    "scores = {}\n",
    "pipelines = {}\n",
    "\n",
    "X_train, X_test, y_train, y_test = train_test_split(X, y, train_size=TRAIN_SIZE, random_state=RANDOM_STATE)\n",
    "\n",
    "for alpha in ALPHAS:\n",
    "    scores[alpha] = {}\n",
    "\n",
    "    pipelines[alpha] = Pipeline([\n",
    "        (\"standardizer\", CustomStandardScaller(has_bias=False, apply_mean=True)),\n",
    "        (\"linear_model\", CustomRidge(alpha=alpha))\n",
    "    ])\n",
    "\n",
    "    pipe = pipelines[alpha]\n",
    "    pipe.fit(X_train, y_train)\n",
    "\n",
    "    print(\"Коэффициент регуляризации:\\n\\ta =\", alpha)\n",
    "    print(\"Параметры модели:\")\n",
    "    for indx, coef in enumerate(pipe.named_steps[\"linear_model\"].coef_):\n",
    "        print(f\"\\tw{indx} = {coef}\")\n",
    "\n",
    "    scores[alpha]['HOLDOUT'] = run_holdout(pipe, X, y, train_size=TRAIN_SIZE, random_state=RANDOM_STATE)\n",
    "    scores[alpha]['CROSSVAL'] = run_cross_val(pipe, X, y, n_splits=SPLITS, shuffle=SHUFFLE, random_state=RANDOM_STATE)\n",
    "\n",
    "    for validation_type in ['HOLDOUT', 'CROSSVAL']:\n",
    "        print(\"\\nМетрики при \", end='')\n",
    "        if validation_type == 'HOLDOUT':\n",
    "            print(\"отложенной выборке (holdout)\")\n",
    "        else:\n",
    "            print(\"кросс-валидации KFold\")\n",
    "\n",
    "        for set_type in [TRAIN, TEST]:\n",
    "            print(f\"\\t{set_type} MSE = {scores[alpha][validation_type][set_type]['MSE']}\")\n",
    "            print(f\"\\t{set_type} R2 = {scores[alpha][validation_type][set_type]['R2']}\")\n",
    "\n",
    "    if alpha != ALPHAS[-1]:\n",
    "        print('\\n\\n')"
   ]
  },
  {
   "cell_type": "code",
   "execution_count": 25,
   "id": "7edb48c9-1aa5-4c12-9773-e427e6f7a686",
   "metadata": {},
   "outputs": [
    {
     "data": {
      "image/png": "[encoded data removed]",
      "text/plain": [
       "<Figure size 1000x600 with 1 Axes>"
      ]
     },
     "metadata": {},
     "output_type": "display_data"
    }
   ],
   "source": [
    "plt.figure(\"1\", figsize=[10, 6])\n",
    "\n",
    "plt.subplot(1,1,1)\n",
    "plt.title(\"Dataset data\")\n",
    "plt.scatter(X[:, 0], y, color=\"slategrey\")\n",
    "plt.scatter(X[:, 0], pipelines[0].predict(X), color=\"red\")\n",
    "plt.scatter(X[:, 0], pipelines[0.01].predict(X), color=\"green\")\n",
    "plt.xlabel(\"X\")\n",
    "plt.ylabel(\"Y\")\n",
    "plt.grid(True)"
   ]
  },
  {
   "cell_type": "code",
   "execution_count": 26,
   "id": "f0668ca0-301b-4575-b17c-41febcb58f32",
   "metadata": {},
   "outputs": [],
   "source": [
    "def plot_prediction_vs_true(title, y_train_true, y_train_pred, y_test_true, y_test_pred):\n",
    "    plt.figure(\"17\", figsize=[12, 8])\n",
    "    plt.suptitle(f\"{title}\", fontsize=14)\n",
    "\n",
    "    plt.subplot(2,2,1)\n",
    "    plt.title(\"Train\")\n",
    "    plt.scatter(y_train_pred, y_train_true, color=\"slategrey\")\n",
    "    ylim = plt.gca().get_ylim()\n",
    "    plt.plot(ylim, ylim, '--', color=\"grey\")\n",
    "    plt.xlim(ylim)\n",
    "    plt.ylim(ylim)\n",
    "    plt.xlabel(\"$\\\\hat{y}$\")\n",
    "    plt.ylabel(\"$y$\")\n",
    "    plt.grid(True)\n",
    "\n",
    "    plt.subplot(2,2,2)\n",
    "    plt.title(\"Test\")\n",
    "    plt.scatter(y_test_pred, y_test_true, color=\"slategrey\")\n",
    "    ylim = plt.gca().get_ylim()\n",
    "    plt.plot(ylim, ylim, '--', color=\"grey\")\n",
    "    plt.xlim(ylim)\n",
    "    plt.ylim(ylim)\n",
    "    plt.xlabel(\"$\\\\hat{y}$\")\n",
    "    plt.ylabel(\"$y$\")\n",
    "    plt.grid(True)\n",
    "    \n",
    "    plt.tight_layout()\n",
    "    plt.show()"
   ]
  },
  {
   "cell_type": "code",
   "execution_count": 27,
   "id": "08352bed-abb2-419c-baa8-940c55a90fa7",
   "metadata": {},
   "outputs": [
    {
     "data": {
      "image/png": "[encoded data removed]",
      "text/plain": [
       "<Figure size 1200x800 with 2 Axes>"
      ]
     },
     "metadata": {},
     "output_type": "display_data"
    },
    {
     "data": {
      "image/png": "[encoded data removed]",
      "text/plain": [
       "<Figure size 1200x800 with 2 Axes>"
      ]
     },
     "metadata": {},
     "output_type": "display_data"
    }
   ],
   "source": [
    "for alpha in ALPHAS:\n",
    "    plot_prediction_vs_true(f\"$\\\\alpha={alpha}$\", y_train, pipelines[alpha].predict(X_train), y_test, pipelines[alpha].predict(X_test))"
   ]
  },
  {
   "cell_type": "code",
   "execution_count": null,
   "id": "da1d364e-7e65-4cf4-81f1-308735424d46",
   "metadata": {},
   "outputs": [],
   "source": []
  }
 ],
 "metadata": {
  "kernelspec": {
   "display_name": "Python 3 (ipykernel)",
   "language": "python",
   "name": "python3"
  },
  "language_info": {
   "codemirror_mode": {
    "name": "ipython",
    "version": 3
   },
   "file_extension": ".py",
   "mimetype": "text/x-python",
   "name": "python",
   "nbconvert_exporter": "python",
   "pygments_lexer": "ipython3",
   "version": "3.11.7"
  }
 },
 "nbformat": 4,
 "nbformat_minor": 5
}
